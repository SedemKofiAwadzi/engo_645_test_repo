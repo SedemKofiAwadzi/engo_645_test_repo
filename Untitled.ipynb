{
 "cells": [
  {
   "cell_type": "code",
   "execution_count": 1,
   "id": "d08fbc9b-e8a3-40e4-b4a5-dbc02ee89d1f",
   "metadata": {},
   "outputs": [
    {
     "name": "stdout",
     "output_type": "stream",
     "text": [
      "Hello ENGO 645 Students\n"
     ]
    }
   ],
   "source": [
    "print(\"Hello ENGO 645 Students\")"
   ]
  },
  {
   "cell_type": "code",
   "execution_count": null,
   "id": "54a4e2a4-af34-4dfb-b386-6cbf765128d4",
   "metadata": {},
   "outputs": [],
   "source": []
  }
 ],
 "metadata": {
  "kernelspec": {
   "display_name": "Python 3 (ipykernel)",
   "language": "python",
   "name": "python3"
  },
  "language_info": {
   "codemirror_mode": {
    "name": "ipython",
    "version": 3
   },
   "file_extension": ".py",
   "mimetype": "text/x-python",
   "name": "python",
   "nbconvert_exporter": "python",
   "pygments_lexer": "ipython3",
   "version": "3.11.5"
  }
 },
 "nbformat": 4,
 "nbformat_minor": 5
}
